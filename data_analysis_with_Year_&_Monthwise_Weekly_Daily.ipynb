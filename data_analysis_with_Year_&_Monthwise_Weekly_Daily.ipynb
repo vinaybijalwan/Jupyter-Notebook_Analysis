{
 "cells": [
  {
   "cell_type": "code",
   "execution_count": 1,
   "id": "fa9f0f14",
   "metadata": {},
   "outputs": [],
   "source": [
    "import pandas as pd"
   ]
  },
  {
   "cell_type": "code",
   "execution_count": 2,
   "id": "90a208de",
   "metadata": {},
   "outputs": [
    {
     "name": "stderr",
     "output_type": "stream",
     "text": [
      "C:\\Users\\vinay_bijalwan.PATANJALI\\AppData\\Local\\Temp\\ipykernel_9936\\1596531958.py:1: DtypeWarning: Columns (7,9,26,27,28,31,32,34,37,38) have mixed types. Specify dtype option on import or set low_memory=False.\n",
      "  df = pd.read_csv(r'pah_2016_2022_with_Y_M_02.csv', encoding='latin1')\n"
     ]
    }
   ],
   "source": [
    "df = pd.read_csv(r'pah_2016_2022_with_Y_M_02.csv', encoding='latin1')"
   ]
  },
  {
   "cell_type": "code",
   "execution_count": 3,
   "id": "ff10a716",
   "metadata": {},
   "outputs": [
    {
     "data": {
      "text/html": [
       "<div>\n",
       "<style scoped>\n",
       "    .dataframe tbody tr th:only-of-type {\n",
       "        vertical-align: middle;\n",
       "    }\n",
       "\n",
       "    .dataframe tbody tr th {\n",
       "        vertical-align: top;\n",
       "    }\n",
       "\n",
       "    .dataframe thead th {\n",
       "        text-align: right;\n",
       "    }\n",
       "</style>\n",
       "<table border=\"1\" class=\"dataframe\">\n",
       "  <thead>\n",
       "    <tr style=\"text-align: right;\">\n",
       "      <th></th>\n",
       "      <th>yyyy</th>\n",
       "      <th>mm</th>\n",
       "      <th>Visit Date</th>\n",
       "      <th>Visit _01</th>\n",
       "      <th>Visit_ID</th>\n",
       "      <th>HIN No.</th>\n",
       "      <th>Patient Name</th>\n",
       "      <th>Patient_Phone1</th>\n",
       "      <th>Whatsapp Number</th>\n",
       "      <th>E-Mail</th>\n",
       "      <th>...</th>\n",
       "      <th>Feedback by patient</th>\n",
       "      <th>Others</th>\n",
       "      <th>Feedback Done</th>\n",
       "      <th>Feedback Taken By</th>\n",
       "      <th>Feedback_ID</th>\n",
       "      <th>Feedback Date</th>\n",
       "      <th>No. Of Feedback</th>\n",
       "      <th>Relief %</th>\n",
       "      <th>Relief % By Doctor</th>\n",
       "      <th>Medicine_Status</th>\n",
       "    </tr>\n",
       "  </thead>\n",
       "  <tbody>\n",
       "    <tr>\n",
       "      <th>0</th>\n",
       "      <td>2016</td>\n",
       "      <td>6</td>\n",
       "      <td>2016-17-06</td>\n",
       "      <td>17-06-2016</td>\n",
       "      <td>2.020000e+19</td>\n",
       "      <td>1.043309e+06</td>\n",
       "      <td>ASHA KUMARI SINGH</td>\n",
       "      <td>9431776912.0</td>\n",
       "      <td>NaN</td>\n",
       "      <td>NaN</td>\n",
       "      <td>...</td>\n",
       "      <td>NO</td>\n",
       "      <td>NO</td>\n",
       "      <td>YES</td>\n",
       "      <td>DR VIJAY NIGAM</td>\n",
       "      <td>4.0</td>\n",
       "      <td>28-07-2016</td>\n",
       "      <td>1.0</td>\n",
       "      <td>0.0</td>\n",
       "      <td>0</td>\n",
       "      <td>Other</td>\n",
       "    </tr>\n",
       "    <tr>\n",
       "      <th>1</th>\n",
       "      <td>2016</td>\n",
       "      <td>6</td>\n",
       "      <td>2016-17-06</td>\n",
       "      <td>17-06-2016</td>\n",
       "      <td>2.020000e+19</td>\n",
       "      <td>1.421295e+10</td>\n",
       "      <td>RAJESHWARI DEVI</td>\n",
       "      <td>0.0</td>\n",
       "      <td>NaN</td>\n",
       "      <td>NaN</td>\n",
       "      <td>...</td>\n",
       "      <td>NO</td>\n",
       "      <td>NO</td>\n",
       "      <td>YES</td>\n",
       "      <td>MR VINAY BIJALWAN</td>\n",
       "      <td>2410.0</td>\n",
       "      <td>05-09-2016</td>\n",
       "      <td>1.0</td>\n",
       "      <td>0.0</td>\n",
       "      <td>0</td>\n",
       "      <td>Medicine Discontinue</td>\n",
       "    </tr>\n",
       "    <tr>\n",
       "      <th>2</th>\n",
       "      <td>2016</td>\n",
       "      <td>6</td>\n",
       "      <td>2016-17-06</td>\n",
       "      <td>17-06-2016</td>\n",
       "      <td>2.020000e+19</td>\n",
       "      <td>1.425700e+10</td>\n",
       "      <td>PUSHPA RANI</td>\n",
       "      <td>9466480250.0</td>\n",
       "      <td>NaN</td>\n",
       "      <td>NaN</td>\n",
       "      <td>...</td>\n",
       "      <td>NO</td>\n",
       "      <td>NO</td>\n",
       "      <td>YES</td>\n",
       "      <td>MR VINAY BIJALWAN</td>\n",
       "      <td>2444.0</td>\n",
       "      <td>05-09-2016</td>\n",
       "      <td>1.0</td>\n",
       "      <td>0.0</td>\n",
       "      <td>0</td>\n",
       "      <td>Medicine Discontinue</td>\n",
       "    </tr>\n",
       "    <tr>\n",
       "      <th>3</th>\n",
       "      <td>2016</td>\n",
       "      <td>6</td>\n",
       "      <td>2016-17-06</td>\n",
       "      <td>17-06-2016</td>\n",
       "      <td>2.020000e+19</td>\n",
       "      <td>1.434514e+10</td>\n",
       "      <td>NALIN KANT SINGH</td>\n",
       "      <td>9431776912.0</td>\n",
       "      <td>NaN</td>\n",
       "      <td>NaN</td>\n",
       "      <td>...</td>\n",
       "      <td>NO</td>\n",
       "      <td>NO</td>\n",
       "      <td>YES</td>\n",
       "      <td>MR VINAY BIJALWAN</td>\n",
       "      <td>2450.0</td>\n",
       "      <td>05-09-2016</td>\n",
       "      <td>1.0</td>\n",
       "      <td>0.0</td>\n",
       "      <td>0</td>\n",
       "      <td>Medicine Discontinue</td>\n",
       "    </tr>\n",
       "    <tr>\n",
       "      <th>4</th>\n",
       "      <td>2016</td>\n",
       "      <td>6</td>\n",
       "      <td>2016-17-06</td>\n",
       "      <td>17-06-2016</td>\n",
       "      <td>2.020000e+19</td>\n",
       "      <td>1.437900e+10</td>\n",
       "      <td>DHANA KANWAR</td>\n",
       "      <td>8058392136.0</td>\n",
       "      <td>NaN</td>\n",
       "      <td>NaN</td>\n",
       "      <td>...</td>\n",
       "      <td>NO</td>\n",
       "      <td>YES</td>\n",
       "      <td>YES</td>\n",
       "      <td>MR VINAY BIJALWAN</td>\n",
       "      <td>2453.0</td>\n",
       "      <td>05-09-2016</td>\n",
       "      <td>1.0</td>\n",
       "      <td>0.0</td>\n",
       "      <td>0</td>\n",
       "      <td>Medicine Continue</td>\n",
       "    </tr>\n",
       "  </tbody>\n",
       "</table>\n",
       "<p>5 rows × 39 columns</p>\n",
       "</div>"
      ],
      "text/plain": [
       "   yyyy  mm  Visit Date   Visit _01      Visit_ID       HIN No.  \\\n",
       "0  2016   6  2016-17-06  17-06-2016  2.020000e+19  1.043309e+06   \n",
       "1  2016   6  2016-17-06  17-06-2016  2.020000e+19  1.421295e+10   \n",
       "2  2016   6  2016-17-06  17-06-2016  2.020000e+19  1.425700e+10   \n",
       "3  2016   6  2016-17-06  17-06-2016  2.020000e+19  1.434514e+10   \n",
       "4  2016   6  2016-17-06  17-06-2016  2.020000e+19  1.437900e+10   \n",
       "\n",
       "        Patient Name Patient_Phone1  Whatsapp Number E-Mail  ...  \\\n",
       "0  ASHA KUMARI SINGH   9431776912.0              NaN    NaN  ...   \n",
       "1   RAJESHWARI DEVI             0.0              NaN    NaN  ...   \n",
       "2       PUSHPA RANI    9466480250.0              NaN    NaN  ...   \n",
       "3   NALIN KANT SINGH   9431776912.0              NaN    NaN  ...   \n",
       "4      DHANA KANWAR    8058392136.0              NaN    NaN  ...   \n",
       "\n",
       "   Feedback by patient Others Feedback Done  Feedback Taken By Feedback_ID  \\\n",
       "0                   NO     NO           YES     DR VIJAY NIGAM         4.0   \n",
       "1                   NO     NO           YES  MR VINAY BIJALWAN      2410.0   \n",
       "2                   NO     NO           YES  MR VINAY BIJALWAN      2444.0   \n",
       "3                   NO     NO           YES  MR VINAY BIJALWAN      2450.0   \n",
       "4                   NO    YES           YES  MR VINAY BIJALWAN      2453.0   \n",
       "\n",
       "  Feedback Date No. Of Feedback Relief %  Relief % By Doctor  \\\n",
       "0    28-07-2016             1.0      0.0                   0   \n",
       "1    05-09-2016             1.0      0.0                   0   \n",
       "2    05-09-2016             1.0      0.0                   0   \n",
       "3    05-09-2016             1.0      0.0                   0   \n",
       "4    05-09-2016             1.0      0.0                   0   \n",
       "\n",
       "        Medicine_Status  \n",
       "0                 Other  \n",
       "1  Medicine Discontinue  \n",
       "2  Medicine Discontinue  \n",
       "3  Medicine Discontinue  \n",
       "4     Medicine Continue  \n",
       "\n",
       "[5 rows x 39 columns]"
      ]
     },
     "execution_count": 3,
     "metadata": {},
     "output_type": "execute_result"
    }
   ],
   "source": [
    "df.head()"
   ]
  },
  {
   "cell_type": "code",
   "execution_count": 5,
   "id": "f63af515",
   "metadata": {},
   "outputs": [],
   "source": [
    "yearly = df.groupby(\"yyyy\").count()"
   ]
  },
  {
   "cell_type": "code",
   "execution_count": 6,
   "id": "59ef1fc1",
   "metadata": {},
   "outputs": [],
   "source": [
    "yearly_value = df.groupby(\"yyyy\").value_counts()"
   ]
  },
  {
   "cell_type": "code",
   "execution_count": 13,
   "id": "247ac71b",
   "metadata": {},
   "outputs": [],
   "source": [
    "yearly_size = df.groupby(\"yyyy\").size()"
   ]
  },
  {
   "cell_type": "code",
   "execution_count": 14,
   "id": "142dc5b2",
   "metadata": {},
   "outputs": [
    {
     "name": "stdout",
     "output_type": "stream",
     "text": [
      "yyyy\n",
      "2016     72344\n",
      "2017    173981\n",
      "2018    142071\n",
      "2019    139782\n",
      "2020     62808\n",
      "2021     96034\n",
      "2022    142581\n",
      "dtype: int64\n"
     ]
    }
   ],
   "source": [
    "print(yearly_size)"
   ]
  },
  {
   "cell_type": "code",
   "execution_count": 7,
   "id": "ecb884e8",
   "metadata": {},
   "outputs": [
    {
     "name": "stdout",
     "output_type": "stream",
     "text": [
      "Series([], dtype: int64)\n"
     ]
    }
   ],
   "source": [
    "print(yearly_value)"
   ]
  },
  {
   "cell_type": "code",
   "execution_count": 8,
   "id": "eafce148",
   "metadata": {},
   "outputs": [
    {
     "name": "stdout",
     "output_type": "stream",
     "text": [
      "          mm  Visit Date  Visit _01  Visit_ID  HIN No.  Patient Name  \\\n",
      "yyyy                                                                   \n",
      "2016   72344       72344      72344     72344    72344         72344   \n",
      "2017  173981      173981     173981    173981   173981        173981   \n",
      "2018  142071      142071     142071    142071   142071        142071   \n",
      "2019  139782      139782     139782    139782   139782        139782   \n",
      "2020   62808       62808      62808     62808    62808         62808   \n",
      "2021   96034       96034      96034         0    96034         96034   \n",
      "2022  142581      142581     142581      9419   142581        142581   \n",
      "\n",
      "      Patient_Phone1  Whatsapp Number  E-Mail     Age  ...  \\\n",
      "yyyy                                                   ...   \n",
      "2016           72246             4434    3717   72344  ...   \n",
      "2017          173656            24500   28760  173981  ...   \n",
      "2018          141989            46820   45442  142071  ...   \n",
      "2019          139674            34606   42123  139782  ...   \n",
      "2020           62769             5830    7438   62808  ...   \n",
      "2021           96006                0       0   96034  ...   \n",
      "2022          136890                0       0  142581  ...   \n",
      "\n",
      "      Feedback by patient  Others  Feedback Done  Feedback Taken By  \\\n",
      "yyyy                                                                  \n",
      "2016                72344   72344          72344              55654   \n",
      "2017               173981  173981         173981             138286   \n",
      "2018               142071  142071         142071              93482   \n",
      "2019               139782  139782         139782              64415   \n",
      "2020                62808   62808          62808              30304   \n",
      "2021                 8584    8584              0                  0   \n",
      "2022                11211   16875              0                  0   \n",
      "\n",
      "      Feedback_ID  Feedback Date  No. Of Feedback  Relief %  \\\n",
      "yyyy                                                          \n",
      "2016        60451          60451            72344     72344   \n",
      "2017       138286         138286           173981    173981   \n",
      "2018        93482          93482           142071    142071   \n",
      "2019        64415          64415           139782    139782   \n",
      "2020        30304          30304            62808     62808   \n",
      "2021            0              0                0         0   \n",
      "2022            0              0                0         0   \n",
      "\n",
      "      Relief % By Doctor  Medicine_Status  \n",
      "yyyy                                       \n",
      "2016               72344            60451  \n",
      "2017              173004           138286  \n",
      "2018              129109            93482  \n",
      "2019              130161            64415  \n",
      "2020               58334            30304  \n",
      "2021                   0                0  \n",
      "2022                   0                0  \n",
      "\n",
      "[7 rows x 38 columns]\n"
     ]
    }
   ],
   "source": [
    "print(yearly)"
   ]
  },
  {
   "cell_type": "code",
   "execution_count": 9,
   "id": "fa4cb0a1",
   "metadata": {},
   "outputs": [],
   "source": [
    "monthly = yearly.groupby(\"mm\").count()"
   ]
  },
  {
   "cell_type": "code",
   "execution_count": 10,
   "id": "01f6aa9d",
   "metadata": {},
   "outputs": [
    {
     "name": "stdout",
     "output_type": "stream",
     "text": [
      "        Visit Date  Visit _01  Visit_ID  HIN No.  Patient Name  \\\n",
      "mm                                                               \n",
      "62808            1          1         1        1             1   \n",
      "72344            1          1         1        1             1   \n",
      "96034            1          1         1        1             1   \n",
      "139782           1          1         1        1             1   \n",
      "142071           1          1         1        1             1   \n",
      "142581           1          1         1        1             1   \n",
      "173981           1          1         1        1             1   \n",
      "\n",
      "        Patient_Phone1  Whatsapp Number  E-Mail  Age  Age Group  ...  \\\n",
      "mm                                                               ...   \n",
      "62808                1                1       1    1          1  ...   \n",
      "72344                1                1       1    1          1  ...   \n",
      "96034                1                1       1    1          1  ...   \n",
      "139782               1                1       1    1          1  ...   \n",
      "142071               1                1       1    1          1  ...   \n",
      "142581               1                1       1    1          1  ...   \n",
      "173981               1                1       1    1          1  ...   \n",
      "\n",
      "        Feedback by patient  Others  Feedback Done  Feedback Taken By  \\\n",
      "mm                                                                      \n",
      "62808                     1       1              1                  1   \n",
      "72344                     1       1              1                  1   \n",
      "96034                     1       1              1                  1   \n",
      "139782                    1       1              1                  1   \n",
      "142071                    1       1              1                  1   \n",
      "142581                    1       1              1                  1   \n",
      "173981                    1       1              1                  1   \n",
      "\n",
      "        Feedback_ID  Feedback Date  No. Of Feedback  Relief %  \\\n",
      "mm                                                              \n",
      "62808             1              1                1         1   \n",
      "72344             1              1                1         1   \n",
      "96034             1              1                1         1   \n",
      "139782            1              1                1         1   \n",
      "142071            1              1                1         1   \n",
      "142581            1              1                1         1   \n",
      "173981            1              1                1         1   \n",
      "\n",
      "        Relief % By Doctor  Medicine_Status  \n",
      "mm                                           \n",
      "62808                    1                1  \n",
      "72344                    1                1  \n",
      "96034                    1                1  \n",
      "139782                   1                1  \n",
      "142071                   1                1  \n",
      "142581                   1                1  \n",
      "173981                   1                1  \n",
      "\n",
      "[7 rows x 37 columns]\n"
     ]
    }
   ],
   "source": [
    "print(monthly)"
   ]
  },
  {
   "cell_type": "code",
   "execution_count": 11,
   "id": "da8f0f26",
   "metadata": {},
   "outputs": [],
   "source": [
    "monthly_size = yearly.groupby(\"mm\").size()"
   ]
  },
  {
   "cell_type": "code",
   "execution_count": 12,
   "id": "fc3d47bb",
   "metadata": {},
   "outputs": [
    {
     "name": "stdout",
     "output_type": "stream",
     "text": [
      "mm\n",
      "62808     1\n",
      "72344     1\n",
      "96034     1\n",
      "139782    1\n",
      "142071    1\n",
      "142581    1\n",
      "173981    1\n",
      "dtype: int64\n"
     ]
    }
   ],
   "source": [
    "print(monthly_size)"
   ]
  },
  {
   "cell_type": "code",
   "execution_count": 15,
   "id": "dc83a920",
   "metadata": {},
   "outputs": [
    {
     "ename": "KeyError",
     "evalue": "'mm'",
     "output_type": "error",
     "traceback": [
      "\u001b[1;31m---------------------------------------------------------------------------\u001b[0m",
      "\u001b[1;31mKeyError\u001b[0m                                  Traceback (most recent call last)",
      "Input \u001b[1;32mIn [15]\u001b[0m, in \u001b[0;36m<cell line: 1>\u001b[1;34m()\u001b[0m\n\u001b[1;32m----> 1\u001b[0m monthly_size \u001b[38;5;241m=\u001b[39m \u001b[43myearly_size\u001b[49m\u001b[38;5;241;43m.\u001b[39;49m\u001b[43mgroupby\u001b[49m\u001b[43m(\u001b[49m\u001b[38;5;124;43m\"\u001b[39;49m\u001b[38;5;124;43mmm\u001b[39;49m\u001b[38;5;124;43m\"\u001b[39;49m\u001b[43m)\u001b[49m\u001b[38;5;241m.\u001b[39msize()\n",
      "File \u001b[1;32m~\\AppData\\Local\\Programs\\Python\\Python310\\lib\\site-packages\\pandas\\core\\series.py:2076\u001b[0m, in \u001b[0;36mSeries.groupby\u001b[1;34m(self, by, axis, level, as_index, sort, group_keys, squeeze, observed, dropna)\u001b[0m\n\u001b[0;32m   2073\u001b[0m     \u001b[38;5;28;01mraise\u001b[39;00m \u001b[38;5;167;01mTypeError\u001b[39;00m(\u001b[38;5;124m\"\u001b[39m\u001b[38;5;124mYou have to supply one of \u001b[39m\u001b[38;5;124m'\u001b[39m\u001b[38;5;124mby\u001b[39m\u001b[38;5;124m'\u001b[39m\u001b[38;5;124m and \u001b[39m\u001b[38;5;124m'\u001b[39m\u001b[38;5;124mlevel\u001b[39m\u001b[38;5;124m'\u001b[39m\u001b[38;5;124m\"\u001b[39m)\n\u001b[0;32m   2074\u001b[0m axis \u001b[38;5;241m=\u001b[39m \u001b[38;5;28mself\u001b[39m\u001b[38;5;241m.\u001b[39m_get_axis_number(axis)\n\u001b[1;32m-> 2076\u001b[0m \u001b[38;5;28;01mreturn\u001b[39;00m \u001b[43mSeriesGroupBy\u001b[49m\u001b[43m(\u001b[49m\n\u001b[0;32m   2077\u001b[0m \u001b[43m    \u001b[49m\u001b[43mobj\u001b[49m\u001b[38;5;241;43m=\u001b[39;49m\u001b[38;5;28;43mself\u001b[39;49m\u001b[43m,\u001b[49m\n\u001b[0;32m   2078\u001b[0m \u001b[43m    \u001b[49m\u001b[43mkeys\u001b[49m\u001b[38;5;241;43m=\u001b[39;49m\u001b[43mby\u001b[49m\u001b[43m,\u001b[49m\n\u001b[0;32m   2079\u001b[0m \u001b[43m    \u001b[49m\u001b[43maxis\u001b[49m\u001b[38;5;241;43m=\u001b[39;49m\u001b[43maxis\u001b[49m\u001b[43m,\u001b[49m\n\u001b[0;32m   2080\u001b[0m \u001b[43m    \u001b[49m\u001b[43mlevel\u001b[49m\u001b[38;5;241;43m=\u001b[39;49m\u001b[43mlevel\u001b[49m\u001b[43m,\u001b[49m\n\u001b[0;32m   2081\u001b[0m \u001b[43m    \u001b[49m\u001b[43mas_index\u001b[49m\u001b[38;5;241;43m=\u001b[39;49m\u001b[43mas_index\u001b[49m\u001b[43m,\u001b[49m\n\u001b[0;32m   2082\u001b[0m \u001b[43m    \u001b[49m\u001b[43msort\u001b[49m\u001b[38;5;241;43m=\u001b[39;49m\u001b[43msort\u001b[49m\u001b[43m,\u001b[49m\n\u001b[0;32m   2083\u001b[0m \u001b[43m    \u001b[49m\u001b[43mgroup_keys\u001b[49m\u001b[38;5;241;43m=\u001b[39;49m\u001b[43mgroup_keys\u001b[49m\u001b[43m,\u001b[49m\n\u001b[0;32m   2084\u001b[0m \u001b[43m    \u001b[49m\u001b[43msqueeze\u001b[49m\u001b[38;5;241;43m=\u001b[39;49m\u001b[43msqueeze\u001b[49m\u001b[43m,\u001b[49m\n\u001b[0;32m   2085\u001b[0m \u001b[43m    \u001b[49m\u001b[43mobserved\u001b[49m\u001b[38;5;241;43m=\u001b[39;49m\u001b[43mobserved\u001b[49m\u001b[43m,\u001b[49m\n\u001b[0;32m   2086\u001b[0m \u001b[43m    \u001b[49m\u001b[43mdropna\u001b[49m\u001b[38;5;241;43m=\u001b[39;49m\u001b[43mdropna\u001b[49m\u001b[43m,\u001b[49m\n\u001b[0;32m   2087\u001b[0m \u001b[43m\u001b[49m\u001b[43m)\u001b[49m\n",
      "File \u001b[1;32m~\\AppData\\Local\\Programs\\Python\\Python310\\lib\\site-packages\\pandas\\core\\groupby\\groupby.py:965\u001b[0m, in \u001b[0;36mGroupBy.__init__\u001b[1;34m(self, obj, keys, axis, level, grouper, exclusions, selection, as_index, sort, group_keys, squeeze, observed, mutated, dropna)\u001b[0m\n\u001b[0;32m    962\u001b[0m \u001b[38;5;28;01mif\u001b[39;00m grouper \u001b[38;5;129;01mis\u001b[39;00m \u001b[38;5;28;01mNone\u001b[39;00m:\n\u001b[0;32m    963\u001b[0m     \u001b[38;5;28;01mfrom\u001b[39;00m \u001b[38;5;21;01mpandas\u001b[39;00m\u001b[38;5;21;01m.\u001b[39;00m\u001b[38;5;21;01mcore\u001b[39;00m\u001b[38;5;21;01m.\u001b[39;00m\u001b[38;5;21;01mgroupby\u001b[39;00m\u001b[38;5;21;01m.\u001b[39;00m\u001b[38;5;21;01mgrouper\u001b[39;00m \u001b[38;5;28;01mimport\u001b[39;00m get_grouper\n\u001b[1;32m--> 965\u001b[0m     grouper, exclusions, obj \u001b[38;5;241m=\u001b[39m \u001b[43mget_grouper\u001b[49m\u001b[43m(\u001b[49m\n\u001b[0;32m    966\u001b[0m \u001b[43m        \u001b[49m\u001b[43mobj\u001b[49m\u001b[43m,\u001b[49m\n\u001b[0;32m    967\u001b[0m \u001b[43m        \u001b[49m\u001b[43mkeys\u001b[49m\u001b[43m,\u001b[49m\n\u001b[0;32m    968\u001b[0m \u001b[43m        \u001b[49m\u001b[43maxis\u001b[49m\u001b[38;5;241;43m=\u001b[39;49m\u001b[43maxis\u001b[49m\u001b[43m,\u001b[49m\n\u001b[0;32m    969\u001b[0m \u001b[43m        \u001b[49m\u001b[43mlevel\u001b[49m\u001b[38;5;241;43m=\u001b[39;49m\u001b[43mlevel\u001b[49m\u001b[43m,\u001b[49m\n\u001b[0;32m    970\u001b[0m \u001b[43m        \u001b[49m\u001b[43msort\u001b[49m\u001b[38;5;241;43m=\u001b[39;49m\u001b[43msort\u001b[49m\u001b[43m,\u001b[49m\n\u001b[0;32m    971\u001b[0m \u001b[43m        \u001b[49m\u001b[43mobserved\u001b[49m\u001b[38;5;241;43m=\u001b[39;49m\u001b[43mobserved\u001b[49m\u001b[43m,\u001b[49m\n\u001b[0;32m    972\u001b[0m \u001b[43m        \u001b[49m\u001b[43mmutated\u001b[49m\u001b[38;5;241;43m=\u001b[39;49m\u001b[38;5;28;43mself\u001b[39;49m\u001b[38;5;241;43m.\u001b[39;49m\u001b[43mmutated\u001b[49m\u001b[43m,\u001b[49m\n\u001b[0;32m    973\u001b[0m \u001b[43m        \u001b[49m\u001b[43mdropna\u001b[49m\u001b[38;5;241;43m=\u001b[39;49m\u001b[38;5;28;43mself\u001b[39;49m\u001b[38;5;241;43m.\u001b[39;49m\u001b[43mdropna\u001b[49m\u001b[43m,\u001b[49m\n\u001b[0;32m    974\u001b[0m \u001b[43m    \u001b[49m\u001b[43m)\u001b[49m\n\u001b[0;32m    976\u001b[0m \u001b[38;5;28mself\u001b[39m\u001b[38;5;241m.\u001b[39mobj \u001b[38;5;241m=\u001b[39m obj\n\u001b[0;32m    977\u001b[0m \u001b[38;5;28mself\u001b[39m\u001b[38;5;241m.\u001b[39maxis \u001b[38;5;241m=\u001b[39m obj\u001b[38;5;241m.\u001b[39m_get_axis_number(axis)\n",
      "File \u001b[1;32m~\\AppData\\Local\\Programs\\Python\\Python310\\lib\\site-packages\\pandas\\core\\groupby\\grouper.py:888\u001b[0m, in \u001b[0;36mget_grouper\u001b[1;34m(obj, key, axis, level, sort, observed, mutated, validate, dropna)\u001b[0m\n\u001b[0;32m    886\u001b[0m         in_axis, level, gpr \u001b[38;5;241m=\u001b[39m \u001b[38;5;28;01mFalse\u001b[39;00m, gpr, \u001b[38;5;28;01mNone\u001b[39;00m\n\u001b[0;32m    887\u001b[0m     \u001b[38;5;28;01melse\u001b[39;00m:\n\u001b[1;32m--> 888\u001b[0m         \u001b[38;5;28;01mraise\u001b[39;00m \u001b[38;5;167;01mKeyError\u001b[39;00m(gpr)\n\u001b[0;32m    889\u001b[0m \u001b[38;5;28;01melif\u001b[39;00m \u001b[38;5;28misinstance\u001b[39m(gpr, Grouper) \u001b[38;5;129;01mand\u001b[39;00m gpr\u001b[38;5;241m.\u001b[39mkey \u001b[38;5;129;01mis\u001b[39;00m \u001b[38;5;129;01mnot\u001b[39;00m \u001b[38;5;28;01mNone\u001b[39;00m:\n\u001b[0;32m    890\u001b[0m     \u001b[38;5;66;03m# Add key to exclusions\u001b[39;00m\n\u001b[0;32m    891\u001b[0m     exclusions\u001b[38;5;241m.\u001b[39madd(gpr\u001b[38;5;241m.\u001b[39mkey)\n",
      "\u001b[1;31mKeyError\u001b[0m: 'mm'"
     ]
    }
   ],
   "source": [
    "monthly_size = yearly_size.groupby(\"mm\").size()"
   ]
  },
  {
   "cell_type": "code",
   "execution_count": null,
   "id": "6ecf4048",
   "metadata": {},
   "outputs": [],
   "source": [
    "print()"
   ]
  }
 ],
 "metadata": {
  "kernelspec": {
   "display_name": "Python 3 (ipykernel)",
   "language": "python",
   "name": "python3"
  },
  "language_info": {
   "codemirror_mode": {
    "name": "ipython",
    "version": 3
   },
   "file_extension": ".py",
   "mimetype": "text/x-python",
   "name": "python",
   "nbconvert_exporter": "python",
   "pygments_lexer": "ipython3",
   "version": "3.10.4"
  }
 },
 "nbformat": 4,
 "nbformat_minor": 5
}
