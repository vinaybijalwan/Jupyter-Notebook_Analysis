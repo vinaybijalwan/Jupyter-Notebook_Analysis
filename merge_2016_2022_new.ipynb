{
 "cells": [
  {
   "cell_type": "code",
   "execution_count": 1,
   "id": "bd6a690e",
   "metadata": {},
   "outputs": [],
   "source": [
    "## import lib\n",
    "\n",
    "import pandas as pd\n",
    "import os\n",
    "import glob"
   ]
  },
  {
   "cell_type": "code",
   "execution_count": 2,
   "id": "3a01e86e",
   "metadata": {},
   "outputs": [
    {
     "data": {
      "text/plain": [
       "['patient_2016.csv',\n",
       " 'patient_2017.csv',\n",
       " 'patient_2018.csv',\n",
       " 'patient_2019.csv',\n",
       " 'patient_2020.csv',\n",
       " 'patient_2021.csv',\n",
       " 'patient_2022.csv']"
      ]
     },
     "execution_count": 2,
     "metadata": {},
     "output_type": "execute_result"
    }
   ],
   "source": [
    "#list all csv files only\n",
    "csv_files = glob.glob('*.{}'.format('csv'))\n",
    "csv_files"
   ]
  },
  {
   "cell_type": "code",
   "execution_count": null,
   "id": "12f58942",
   "metadata": {},
   "outputs": [
    {
     "name": "stderr",
     "output_type": "stream",
     "text": [
      "C:\\Users\\vinay_bijalwan.PATANJALI\\AppData\\Local\\Temp\\ipykernel_1320\\3649777040.py:2: DtypeWarning: Columns (4,5,7,16,32,34,35,36) have mixed types. Specify dtype option on import or set low_memory=False.\n",
      "  df_concat = pd.concat([pd.read_csv(f, encoding='ISO 8859-1') for f in csv_files ], ignore_index=True)\n",
      "C:\\Users\\vinay_bijalwan.PATANJALI\\AppData\\Local\\Temp\\ipykernel_1320\\3649777040.py:2: DtypeWarning: Columns (5,7,31,32,34,37,38) have mixed types. Specify dtype option on import or set low_memory=False.\n",
      "  df_concat = pd.concat([pd.read_csv(f, encoding='ISO 8859-1') for f in csv_files ], ignore_index=True)\n",
      "C:\\Users\\vinay_bijalwan.PATANJALI\\AppData\\Local\\Temp\\ipykernel_1320\\3649777040.py:2: DtypeWarning: Columns (5) have mixed types. Specify dtype option on import or set low_memory=False.\n",
      "  df_concat = pd.concat([pd.read_csv(f, encoding='ISO 8859-1') for f in csv_files ], ignore_index=True)\n",
      "C:\\Users\\vinay_bijalwan.PATANJALI\\AppData\\Local\\Temp\\ipykernel_1320\\3649777040.py:2: DtypeWarning: Columns (5,6,8,17,31,32,33,34,35,36,38) have mixed types. Specify dtype option on import or set low_memory=False.\n",
      "  df_concat = pd.concat([pd.read_csv(f, encoding='ISO 8859-1') for f in csv_files ], ignore_index=True)\n",
      "C:\\Users\\vinay_bijalwan.PATANJALI\\AppData\\Local\\Temp\\ipykernel_1320\\3649777040.py:2: DtypeWarning: Columns (30,31,33,37) have mixed types. Specify dtype option on import or set low_memory=False.\n",
      "  df_concat = pd.concat([pd.read_csv(f, encoding='ISO 8859-1') for f in csv_files ], ignore_index=True)\n"
     ]
    }
   ],
   "source": [
    "##concate csv file in loop\n",
    "df_concat = pd.concat([pd.read_csv(f, encoding='ISO 8859-1') for f in csv_files ], ignore_index=True)"
   ]
  },
  {
   "cell_type": "code",
   "execution_count": null,
   "id": "fd010ae5",
   "metadata": {},
   "outputs": [],
   "source": []
  }
 ],
 "metadata": {
  "kernelspec": {
   "display_name": "Python 3 (ipykernel)",
   "language": "python",
   "name": "python3"
  },
  "language_info": {
   "codemirror_mode": {
    "name": "ipython",
    "version": 3
   },
   "file_extension": ".py",
   "mimetype": "text/x-python",
   "name": "python",
   "nbconvert_exporter": "python",
   "pygments_lexer": "ipython3",
   "version": "3.10.4"
  }
 },
 "nbformat": 4,
 "nbformat_minor": 5
}
