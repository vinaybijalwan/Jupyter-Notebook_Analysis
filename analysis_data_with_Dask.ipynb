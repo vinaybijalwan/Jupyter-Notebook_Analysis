{
 "cells": [
  {
   "cell_type": "code",
   "execution_count": null,
   "id": "29f52271",
   "metadata": {},
   "outputs": [],
   "source": [
    "##While reading large CSVs, you may encounter out of memory error if it doesn't fit in your RAM, \n",
    "##hence DASK comes into picture."
   ]
  },
  {
   "cell_type": "code",
   "execution_count": null,
   "id": "a7099960",
   "metadata": {},
   "outputs": [],
   "source": [
    "##Dask is an open-source python library with the features of parallelism and scalability in Python included by default in Anaconda distribution."
   ]
  },
  {
   "cell_type": "code",
   "execution_count": null,
   "id": "e10c66c5",
   "metadata": {},
   "outputs": [],
   "source": [
    "##pip install dask"
   ]
  },
  {
   "cell_type": "code",
   "execution_count": 3,
   "id": "3b55c3c0",
   "metadata": {},
   "outputs": [],
   "source": [
    "from dask import dataframe as dd\n",
    "import time"
   ]
  },
  {
   "cell_type": "code",
   "execution_count": 4,
   "id": "9fe68159",
   "metadata": {},
   "outputs": [],
   "source": [
    "start = time.time()\n",
    "dask_df = dd.read_csv(r'patient_2017.csv', encoding='latin1')\n",
    "end = time.time()"
   ]
  },
  {
   "cell_type": "code",
   "execution_count": 5,
   "id": "a46102fe",
   "metadata": {},
   "outputs": [
    {
     "name": "stdout",
     "output_type": "stream",
     "text": [
      "Read csv with dask:  0.20299053192138672 sec\n"
     ]
    }
   ],
   "source": [
    "print(\"Read csv with dask: \",(end-start),\"sec\")"
   ]
  },
  {
   "cell_type": "code",
   "execution_count": null,
   "id": "a7ac7ec0",
   "metadata": {},
   "outputs": [],
   "source": [
    "## Great this is so fast to read large set of data, compare to Pandas lib. in pandas without chunk take 124 sec read data\n",
    "## With Chunk data read in .79 Sec but in Dask lib data read in .20 sec. Wonderful !!!, This is The Power of Parallel Computing!"
   ]
  }
 ],
 "metadata": {
  "kernelspec": {
   "display_name": "Python 3 (ipykernel)",
   "language": "python",
   "name": "python3"
  },
  "language_info": {
   "codemirror_mode": {
    "name": "ipython",
    "version": 3
   },
   "file_extension": ".py",
   "mimetype": "text/x-python",
   "name": "python",
   "nbconvert_exporter": "python",
   "pygments_lexer": "ipython3",
   "version": "3.10.4"
  }
 },
 "nbformat": 4,
 "nbformat_minor": 5
}
